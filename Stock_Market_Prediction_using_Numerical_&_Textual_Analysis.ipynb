{
  "nbformat": 4,
  "nbformat_minor": 0,
  "metadata": {
    "colab": {
      "name": "Stock Market Prediction using Numerical & Textual Analysis.ipynb",
      "provenance": []
    },
    "kernelspec": {
      "name": "python3",
      "display_name": "Python 3"
    },
    "language_info": {
      "name": "python"
    }
  },
  "cells": [
    {
      "cell_type": "code",
      "execution_count": 1,
      "metadata": {
        "colab": {
          "base_uri": "https://localhost:8080/"
        },
        "id": "elnWmvbVZ3_7",
        "outputId": "0814ef84-421d-4528-f28b-518a6a521ed1"
      },
      "outputs": [
        {
          "output_type": "stream",
          "name": "stdout",
          "text": [
            "Collecting yfinance\n",
            "  Downloading yfinance-0.1.67-py2.py3-none-any.whl (25 kB)\n",
            "Collecting lxml>=4.5.1\n",
            "  Downloading lxml-4.7.1-cp37-cp37m-manylinux_2_17_x86_64.manylinux2014_x86_64.manylinux_2_24_x86_64.whl (6.4 MB)\n",
            "\u001b[K     |████████████████████████████████| 6.4 MB 6.6 MB/s \n",
            "\u001b[?25hRequirement already satisfied: requests>=2.20 in /usr/local/lib/python3.7/dist-packages (from yfinance) (2.23.0)\n",
            "Requirement already satisfied: numpy>=1.15 in /usr/local/lib/python3.7/dist-packages (from yfinance) (1.19.5)\n",
            "Requirement already satisfied: pandas>=0.24 in /usr/local/lib/python3.7/dist-packages (from yfinance) (1.1.5)\n",
            "Requirement already satisfied: multitasking>=0.0.7 in /usr/local/lib/python3.7/dist-packages (from yfinance) (0.0.10)\n",
            "Requirement already satisfied: python-dateutil>=2.7.3 in /usr/local/lib/python3.7/dist-packages (from pandas>=0.24->yfinance) (2.8.2)\n",
            "Requirement already satisfied: pytz>=2017.2 in /usr/local/lib/python3.7/dist-packages (from pandas>=0.24->yfinance) (2018.9)\n",
            "Requirement already satisfied: six>=1.5 in /usr/local/lib/python3.7/dist-packages (from python-dateutil>=2.7.3->pandas>=0.24->yfinance) (1.15.0)\n",
            "Requirement already satisfied: urllib3!=1.25.0,!=1.25.1,<1.26,>=1.21.1 in /usr/local/lib/python3.7/dist-packages (from requests>=2.20->yfinance) (1.24.3)\n",
            "Requirement already satisfied: idna<3,>=2.5 in /usr/local/lib/python3.7/dist-packages (from requests>=2.20->yfinance) (2.10)\n",
            "Requirement already satisfied: certifi>=2017.4.17 in /usr/local/lib/python3.7/dist-packages (from requests>=2.20->yfinance) (2021.10.8)\n",
            "Requirement already satisfied: chardet<4,>=3.0.2 in /usr/local/lib/python3.7/dist-packages (from requests>=2.20->yfinance) (3.0.4)\n",
            "Installing collected packages: lxml, yfinance\n",
            "  Attempting uninstall: lxml\n",
            "    Found existing installation: lxml 4.2.6\n",
            "    Uninstalling lxml-4.2.6:\n",
            "      Successfully uninstalled lxml-4.2.6\n",
            "Successfully installed lxml-4.7.1 yfinance-0.1.67\n"
          ]
        }
      ],
      "source": [
        "pip install yfinance --upgrade --no-cache-dir"
      ]
    },
    {
      "cell_type": "code",
      "source": [
        "#import libraries \n",
        "import numpy as np\n",
        "import pandas as pd\n",
        "\n",
        "import matplotlib.pyplot as plt\n",
        "%matplotlib inline\n",
        "\n",
        "import altair as alt  #Altair is a declarative statistical visualization library for Python\n",
        "\n",
        "import statsmodels.api as sm \n",
        "\n",
        "from sklearn.model_selection import ShuffleSplit\n",
        "from sklearn.metrics import mean_absolute_error\n",
        "from sklearn.metrics import mean_squared_error\n",
        "from sklearn.metrics import r2_score\n",
        "from sklearn.multioutput import RegressorChain\n",
        "from sklearn.ensemble import RandomForestRegressor"
      ],
      "metadata": {
        "colab": {
          "base_uri": "https://localhost:8080/"
        },
        "id": "knHnvD7Ia4CW",
        "outputId": "ad1439cf-dc88-4ab2-b345-dd606df076af"
      },
      "execution_count": 2,
      "outputs": [
        {
          "output_type": "stream",
          "name": "stderr",
          "text": [
            "/usr/local/lib/python3.7/dist-packages/statsmodels/tools/_testing.py:19: FutureWarning: pandas.util.testing is deprecated. Use the functions in the public API at pandas.testing instead.\n",
            "  import pandas.util.testing as tm\n"
          ]
        }
      ]
    },
    {
      "cell_type": "code",
      "source": [
        "#ignoring the warnings\n",
        "import warnings\n",
        "warnings.filterwarnings('ignore')"
      ],
      "metadata": {
        "id": "FmYyXzkVa-GO"
      },
      "execution_count": 3,
      "outputs": []
    },
    {
      "cell_type": "code",
      "source": [
        "# import yfinance as yf\n",
        "# bse_data = yf.download('^BSESN', start='2015-01-01', end='2020-11-03')\n",
        "# unseenbse_data = yf.download('^BSESN', start='2020-11-03', end='2020-11-04')"
      ],
      "metadata": {
        "id": "1CQNYiXobCpp"
      },
      "execution_count": 4,
      "outputs": []
    },
    {
      "cell_type": "code",
      "source": [
        "import yfinance as yf\n",
        "bse_data = yf.download('^BSESN', start='2015-01-01', end='2020-06-30')\n",
        "#since our Textual Analysis dataset containing news from Times of India News Headlines is only till 30th June 2020. \n",
        "#So we will assume today is 29th June 2020 and tomorrow is 30th June 2020. And we have to predict the stock price ((high+low+close)/3) and closing price of BSE index \n",
        "#for tomorrow 30th June 2020.\n",
        "unseenbse_data = yf.download('^BSESN', start='2020-06-30', end='2020-07-01')"
      ],
      "metadata": {
        "colab": {
          "base_uri": "https://localhost:8080/"
        },
        "id": "-HqhaGcHbHqp",
        "outputId": "60ab639c-af6c-4b43-9ffd-9244b6912c97"
      },
      "execution_count": 5,
      "outputs": [
        {
          "output_type": "stream",
          "name": "stdout",
          "text": [
            "[*********************100%***********************]  1 of 1 completed\n",
            "[*********************100%***********************]  1 of 1 completed\n"
          ]
        }
      ]
    },
    {
      "cell_type": "code",
      "source": [
        "bse_data.columns"
      ],
      "metadata": {
        "colab": {
          "base_uri": "https://localhost:8080/"
        },
        "id": "dT-L2CzYbMvM",
        "outputId": "ef808b60-1dc7-4724-d6ea-f2539f052d53"
      },
      "execution_count": 6,
      "outputs": [
        {
          "output_type": "execute_result",
          "data": {
            "text/plain": [
              "Index(['Open', 'High', 'Low', 'Close', 'Adj Close', 'Volume'], dtype='object')"
            ]
          },
          "metadata": {},
          "execution_count": 6
        }
      ]
    },
    {
      "cell_type": "code",
      "source": [
        "unseenbse_data.columns"
      ],
      "metadata": {
        "colab": {
          "base_uri": "https://localhost:8080/"
        },
        "id": "mc1HrX8rbP5d",
        "outputId": "fa36a4fc-3f90-474f-b58c-b7f32d76ec7a"
      },
      "execution_count": 7,
      "outputs": [
        {
          "output_type": "execute_result",
          "data": {
            "text/plain": [
              "Index(['Open', 'High', 'Low', 'Close', 'Adj Close', 'Volume'], dtype='object')"
            ]
          },
          "metadata": {},
          "execution_count": 7
        }
      ]
    },
    {
      "cell_type": "code",
      "source": [
        "bse_data.rename(columns={'Open': 'open', 'High': 'high', 'Low': 'low', 'Close': 'close', 'Adj Close': 'adjclose', 'Volume': 'volume'}, inplace = True)"
      ],
      "metadata": {
        "id": "GwGFEsGkbTPZ"
      },
      "execution_count": 8,
      "outputs": []
    },
    {
      "cell_type": "code",
      "source": [
        "unseenbse_data.rename(columns={'Open': 'open', 'High': 'high', 'Low': 'low', 'Close': 'close', 'Adj Close': 'adjclose', 'Volume': 'volume'}, inplace = True)"
      ],
      "metadata": {
        "id": "Ma5fNKGSbU0A"
      },
      "execution_count": 9,
      "outputs": []
    },
    {
      "cell_type": "code",
      "source": [
        "bse_data.info()"
      ],
      "metadata": {
        "colab": {
          "base_uri": "https://localhost:8080/"
        },
        "id": "xqbUxbYJbaCm",
        "outputId": "5d14da31-c777-4431-ef20-23a3ac6f70ff"
      },
      "execution_count": 10,
      "outputs": [
        {
          "output_type": "stream",
          "name": "stdout",
          "text": [
            "<class 'pandas.core.frame.DataFrame'>\n",
            "DatetimeIndex: 1345 entries, 2015-01-02 to 2020-06-29\n",
            "Data columns (total 6 columns):\n",
            " #   Column    Non-Null Count  Dtype  \n",
            "---  ------    --------------  -----  \n",
            " 0   open      1345 non-null   float64\n",
            " 1   high      1345 non-null   float64\n",
            " 2   low       1345 non-null   float64\n",
            " 3   close     1345 non-null   float64\n",
            " 4   adjclose  1345 non-null   float64\n",
            " 5   volume    1345 non-null   int64  \n",
            "dtypes: float64(5), int64(1)\n",
            "memory usage: 73.6 KB\n"
          ]
        }
      ]
    },
    {
      "cell_type": "code",
      "source": [
        "unseenbse_data.info()"
      ],
      "metadata": {
        "colab": {
          "base_uri": "https://localhost:8080/"
        },
        "id": "vVKCa1JAbcay",
        "outputId": "22c08583-bb26-422e-e20d-41c620af0fa0"
      },
      "execution_count": 11,
      "outputs": [
        {
          "output_type": "stream",
          "name": "stdout",
          "text": [
            "<class 'pandas.core.frame.DataFrame'>\n",
            "DatetimeIndex: 1 entries, 2020-06-30 to 2020-06-30\n",
            "Data columns (total 6 columns):\n",
            " #   Column    Non-Null Count  Dtype  \n",
            "---  ------    --------------  -----  \n",
            " 0   open      1 non-null      float64\n",
            " 1   high      1 non-null      float64\n",
            " 2   low       1 non-null      float64\n",
            " 3   close     1 non-null      float64\n",
            " 4   adjclose  1 non-null      float64\n",
            " 5   volume    1 non-null      int64  \n",
            "dtypes: float64(5), int64(1)\n",
            "memory usage: 56.0 bytes\n"
          ]
        }
      ]
    },
    {
      "cell_type": "code",
      "source": [
        "bse_data.head()"
      ],
      "metadata": {
        "colab": {
          "base_uri": "https://localhost:8080/",
          "height": 237
        },
        "id": "UmycM7x6bh5g",
        "outputId": "3b690c80-779d-42fb-a044-b6c68cb0b8bf"
      },
      "execution_count": 12,
      "outputs": [
        {
          "output_type": "execute_result",
          "data": {
            "text/html": [
              "<div>\n",
              "<style scoped>\n",
              "    .dataframe tbody tr th:only-of-type {\n",
              "        vertical-align: middle;\n",
              "    }\n",
              "\n",
              "    .dataframe tbody tr th {\n",
              "        vertical-align: top;\n",
              "    }\n",
              "\n",
              "    .dataframe thead th {\n",
              "        text-align: right;\n",
              "    }\n",
              "</style>\n",
              "<table border=\"1\" class=\"dataframe\">\n",
              "  <thead>\n",
              "    <tr style=\"text-align: right;\">\n",
              "      <th></th>\n",
              "      <th>open</th>\n",
              "      <th>high</th>\n",
              "      <th>low</th>\n",
              "      <th>close</th>\n",
              "      <th>adjclose</th>\n",
              "      <th>volume</th>\n",
              "    </tr>\n",
              "    <tr>\n",
              "      <th>Date</th>\n",
              "      <th></th>\n",
              "      <th></th>\n",
              "      <th></th>\n",
              "      <th></th>\n",
              "      <th></th>\n",
              "      <th></th>\n",
              "    </tr>\n",
              "  </thead>\n",
              "  <tbody>\n",
              "    <tr>\n",
              "      <th>2015-01-02</th>\n",
              "      <td>27521.279297</td>\n",
              "      <td>27937.470703</td>\n",
              "      <td>27519.259766</td>\n",
              "      <td>27887.900391</td>\n",
              "      <td>27887.900391</td>\n",
              "      <td>7400</td>\n",
              "    </tr>\n",
              "    <tr>\n",
              "      <th>2015-01-05</th>\n",
              "      <td>27978.429688</td>\n",
              "      <td>28064.490234</td>\n",
              "      <td>27786.849609</td>\n",
              "      <td>27842.320312</td>\n",
              "      <td>27842.320312</td>\n",
              "      <td>9200</td>\n",
              "    </tr>\n",
              "    <tr>\n",
              "      <th>2015-01-06</th>\n",
              "      <td>27694.230469</td>\n",
              "      <td>27698.929688</td>\n",
              "      <td>26937.060547</td>\n",
              "      <td>26987.460938</td>\n",
              "      <td>26987.460938</td>\n",
              "      <td>14100</td>\n",
              "    </tr>\n",
              "    <tr>\n",
              "      <th>2015-01-07</th>\n",
              "      <td>26983.429688</td>\n",
              "      <td>27051.599609</td>\n",
              "      <td>26776.119141</td>\n",
              "      <td>26908.820312</td>\n",
              "      <td>26908.820312</td>\n",
              "      <td>12200</td>\n",
              "    </tr>\n",
              "    <tr>\n",
              "      <th>2015-01-08</th>\n",
              "      <td>27178.769531</td>\n",
              "      <td>27316.410156</td>\n",
              "      <td>27101.939453</td>\n",
              "      <td>27274.710938</td>\n",
              "      <td>27274.710938</td>\n",
              "      <td>8200</td>\n",
              "    </tr>\n",
              "  </tbody>\n",
              "</table>\n",
              "</div>"
            ],
            "text/plain": [
              "                    open          high  ...      adjclose  volume\n",
              "Date                                    ...                      \n",
              "2015-01-02  27521.279297  27937.470703  ...  27887.900391    7400\n",
              "2015-01-05  27978.429688  28064.490234  ...  27842.320312    9200\n",
              "2015-01-06  27694.230469  27698.929688  ...  26987.460938   14100\n",
              "2015-01-07  26983.429688  27051.599609  ...  26908.820312   12200\n",
              "2015-01-08  27178.769531  27316.410156  ...  27274.710938    8200\n",
              "\n",
              "[5 rows x 6 columns]"
            ]
          },
          "metadata": {},
          "execution_count": 12
        }
      ]
    },
    {
      "cell_type": "code",
      "source": [
        "bse_data.tail()"
      ],
      "metadata": {
        "colab": {
          "base_uri": "https://localhost:8080/",
          "height": 237
        },
        "id": "WXfoqcjUbiFG",
        "outputId": "915294eb-5058-4ae2-f99a-a97b7b82d381"
      },
      "execution_count": 13,
      "outputs": [
        {
          "output_type": "execute_result",
          "data": {
            "text/html": [
              "<div>\n",
              "<style scoped>\n",
              "    .dataframe tbody tr th:only-of-type {\n",
              "        vertical-align: middle;\n",
              "    }\n",
              "\n",
              "    .dataframe tbody tr th {\n",
              "        vertical-align: top;\n",
              "    }\n",
              "\n",
              "    .dataframe thead th {\n",
              "        text-align: right;\n",
              "    }\n",
              "</style>\n",
              "<table border=\"1\" class=\"dataframe\">\n",
              "  <thead>\n",
              "    <tr style=\"text-align: right;\">\n",
              "      <th></th>\n",
              "      <th>open</th>\n",
              "      <th>high</th>\n",
              "      <th>low</th>\n",
              "      <th>close</th>\n",
              "      <th>adjclose</th>\n",
              "      <th>volume</th>\n",
              "    </tr>\n",
              "    <tr>\n",
              "      <th>Date</th>\n",
              "      <th></th>\n",
              "      <th></th>\n",
              "      <th></th>\n",
              "      <th></th>\n",
              "      <th></th>\n",
              "      <th></th>\n",
              "    </tr>\n",
              "  </thead>\n",
              "  <tbody>\n",
              "    <tr>\n",
              "      <th>2020-06-23</th>\n",
              "      <td>35015.730469</td>\n",
              "      <td>35482.160156</td>\n",
              "      <td>34843.691406</td>\n",
              "      <td>35430.429688</td>\n",
              "      <td>35430.429688</td>\n",
              "      <td>25200</td>\n",
              "    </tr>\n",
              "    <tr>\n",
              "      <th>2020-06-24</th>\n",
              "      <td>35679.738281</td>\n",
              "      <td>35706.550781</td>\n",
              "      <td>34794.929688</td>\n",
              "      <td>34868.980469</td>\n",
              "      <td>34868.980469</td>\n",
              "      <td>26600</td>\n",
              "    </tr>\n",
              "    <tr>\n",
              "      <th>2020-06-25</th>\n",
              "      <td>34525.390625</td>\n",
              "      <td>35081.609375</td>\n",
              "      <td>34499.781250</td>\n",
              "      <td>34842.101562</td>\n",
              "      <td>34842.101562</td>\n",
              "      <td>24600</td>\n",
              "    </tr>\n",
              "    <tr>\n",
              "      <th>2020-06-26</th>\n",
              "      <td>35144.781250</td>\n",
              "      <td>35254.878906</td>\n",
              "      <td>34910.339844</td>\n",
              "      <td>35171.269531</td>\n",
              "      <td>35171.269531</td>\n",
              "      <td>24800</td>\n",
              "    </tr>\n",
              "    <tr>\n",
              "      <th>2020-06-29</th>\n",
              "      <td>34926.949219</td>\n",
              "      <td>35032.359375</td>\n",
              "      <td>34662.058594</td>\n",
              "      <td>34961.519531</td>\n",
              "      <td>34961.519531</td>\n",
              "      <td>18300</td>\n",
              "    </tr>\n",
              "  </tbody>\n",
              "</table>\n",
              "</div>"
            ],
            "text/plain": [
              "                    open          high  ...      adjclose  volume\n",
              "Date                                    ...                      \n",
              "2020-06-23  35015.730469  35482.160156  ...  35430.429688   25200\n",
              "2020-06-24  35679.738281  35706.550781  ...  34868.980469   26600\n",
              "2020-06-25  34525.390625  35081.609375  ...  34842.101562   24600\n",
              "2020-06-26  35144.781250  35254.878906  ...  35171.269531   24800\n",
              "2020-06-29  34926.949219  35032.359375  ...  34961.519531   18300\n",
              "\n",
              "[5 rows x 6 columns]"
            ]
          },
          "metadata": {},
          "execution_count": 13
        }
      ]
    },
    {
      "cell_type": "code",
      "source": [
        "unseenbse_data.head()"
      ],
      "metadata": {
        "colab": {
          "base_uri": "https://localhost:8080/",
          "height": 112
        },
        "id": "Hnz5hEFjbpAj",
        "outputId": "585e3551-b0d5-43a3-a466-694873c25cb0"
      },
      "execution_count": 14,
      "outputs": [
        {
          "output_type": "execute_result",
          "data": {
            "text/html": [
              "<div>\n",
              "<style scoped>\n",
              "    .dataframe tbody tr th:only-of-type {\n",
              "        vertical-align: middle;\n",
              "    }\n",
              "\n",
              "    .dataframe tbody tr th {\n",
              "        vertical-align: top;\n",
              "    }\n",
              "\n",
              "    .dataframe thead th {\n",
              "        text-align: right;\n",
              "    }\n",
              "</style>\n",
              "<table border=\"1\" class=\"dataframe\">\n",
              "  <thead>\n",
              "    <tr style=\"text-align: right;\">\n",
              "      <th></th>\n",
              "      <th>open</th>\n",
              "      <th>high</th>\n",
              "      <th>low</th>\n",
              "      <th>close</th>\n",
              "      <th>adjclose</th>\n",
              "      <th>volume</th>\n",
              "    </tr>\n",
              "    <tr>\n",
              "      <th>Date</th>\n",
              "      <th></th>\n",
              "      <th></th>\n",
              "      <th></th>\n",
              "      <th></th>\n",
              "      <th></th>\n",
              "      <th></th>\n",
              "    </tr>\n",
              "  </thead>\n",
              "  <tbody>\n",
              "    <tr>\n",
              "      <th>2020-06-30</th>\n",
              "      <td>35168.300781</td>\n",
              "      <td>35233.910156</td>\n",
              "      <td>34812.800781</td>\n",
              "      <td>34915.800781</td>\n",
              "      <td>34915.800781</td>\n",
              "      <td>18500</td>\n",
              "    </tr>\n",
              "  </tbody>\n",
              "</table>\n",
              "</div>"
            ],
            "text/plain": [
              "                    open          high  ...      adjclose  volume\n",
              "Date                                    ...                      \n",
              "2020-06-30  35168.300781  35233.910156  ...  34915.800781   18500\n",
              "\n",
              "[1 rows x 6 columns]"
            ]
          },
          "metadata": {},
          "execution_count": 14
        }
      ]
    },
    {
      "cell_type": "code",
      "source": [
        "bse_data.reset_index(inplace=True)"
      ],
      "metadata": {
        "id": "z4Jhx4-tbqrh"
      },
      "execution_count": 15,
      "outputs": []
    },
    {
      "cell_type": "code",
      "source": [
        "bse_data.rename(columns={'Date': 'date'}, inplace = True)"
      ],
      "metadata": {
        "id": "jm_IfOz1b1Ys"
      },
      "execution_count": 16,
      "outputs": []
    },
    {
      "cell_type": "code",
      "source": [
        "bse_data.head()"
      ],
      "metadata": {
        "colab": {
          "base_uri": "https://localhost:8080/",
          "height": 206
        },
        "id": "Rs-1Kf1Jb4kT",
        "outputId": "9d94c9e6-dc14-4c5d-d606-54642e66d12f"
      },
      "execution_count": 17,
      "outputs": [
        {
          "output_type": "execute_result",
          "data": {
            "text/html": [
              "<div>\n",
              "<style scoped>\n",
              "    .dataframe tbody tr th:only-of-type {\n",
              "        vertical-align: middle;\n",
              "    }\n",
              "\n",
              "    .dataframe tbody tr th {\n",
              "        vertical-align: top;\n",
              "    }\n",
              "\n",
              "    .dataframe thead th {\n",
              "        text-align: right;\n",
              "    }\n",
              "</style>\n",
              "<table border=\"1\" class=\"dataframe\">\n",
              "  <thead>\n",
              "    <tr style=\"text-align: right;\">\n",
              "      <th></th>\n",
              "      <th>date</th>\n",
              "      <th>open</th>\n",
              "      <th>high</th>\n",
              "      <th>low</th>\n",
              "      <th>close</th>\n",
              "      <th>adjclose</th>\n",
              "      <th>volume</th>\n",
              "    </tr>\n",
              "  </thead>\n",
              "  <tbody>\n",
              "    <tr>\n",
              "      <th>0</th>\n",
              "      <td>2015-01-02</td>\n",
              "      <td>27521.279297</td>\n",
              "      <td>27937.470703</td>\n",
              "      <td>27519.259766</td>\n",
              "      <td>27887.900391</td>\n",
              "      <td>27887.900391</td>\n",
              "      <td>7400</td>\n",
              "    </tr>\n",
              "    <tr>\n",
              "      <th>1</th>\n",
              "      <td>2015-01-05</td>\n",
              "      <td>27978.429688</td>\n",
              "      <td>28064.490234</td>\n",
              "      <td>27786.849609</td>\n",
              "      <td>27842.320312</td>\n",
              "      <td>27842.320312</td>\n",
              "      <td>9200</td>\n",
              "    </tr>\n",
              "    <tr>\n",
              "      <th>2</th>\n",
              "      <td>2015-01-06</td>\n",
              "      <td>27694.230469</td>\n",
              "      <td>27698.929688</td>\n",
              "      <td>26937.060547</td>\n",
              "      <td>26987.460938</td>\n",
              "      <td>26987.460938</td>\n",
              "      <td>14100</td>\n",
              "    </tr>\n",
              "    <tr>\n",
              "      <th>3</th>\n",
              "      <td>2015-01-07</td>\n",
              "      <td>26983.429688</td>\n",
              "      <td>27051.599609</td>\n",
              "      <td>26776.119141</td>\n",
              "      <td>26908.820312</td>\n",
              "      <td>26908.820312</td>\n",
              "      <td>12200</td>\n",
              "    </tr>\n",
              "    <tr>\n",
              "      <th>4</th>\n",
              "      <td>2015-01-08</td>\n",
              "      <td>27178.769531</td>\n",
              "      <td>27316.410156</td>\n",
              "      <td>27101.939453</td>\n",
              "      <td>27274.710938</td>\n",
              "      <td>27274.710938</td>\n",
              "      <td>8200</td>\n",
              "    </tr>\n",
              "  </tbody>\n",
              "</table>\n",
              "</div>"
            ],
            "text/plain": [
              "        date          open          high  ...         close      adjclose  volume\n",
              "0 2015-01-02  27521.279297  27937.470703  ...  27887.900391  27887.900391    7400\n",
              "1 2015-01-05  27978.429688  28064.490234  ...  27842.320312  27842.320312    9200\n",
              "2 2015-01-06  27694.230469  27698.929688  ...  26987.460938  26987.460938   14100\n",
              "3 2015-01-07  26983.429688  27051.599609  ...  26908.820312  26908.820312   12200\n",
              "4 2015-01-08  27178.769531  27316.410156  ...  27274.710938  27274.710938    8200\n",
              "\n",
              "[5 rows x 7 columns]"
            ]
          },
          "metadata": {},
          "execution_count": 17
        }
      ]
    },
    {
      "cell_type": "code",
      "source": [
        "unseenbse_data.reset_index(inplace=True)"
      ],
      "metadata": {
        "id": "_AhC3Efyb9iF"
      },
      "execution_count": 18,
      "outputs": []
    },
    {
      "cell_type": "code",
      "source": [
        "unseenbse_data.rename(columns={'Date': 'date'}, inplace = True)"
      ],
      "metadata": {
        "id": "HSS4V18TcGKa"
      },
      "execution_count": 19,
      "outputs": []
    },
    {
      "cell_type": "code",
      "source": [
        "unseenbse_data.head()"
      ],
      "metadata": {
        "colab": {
          "base_uri": "https://localhost:8080/",
          "height": 81
        },
        "id": "ANLEABlScJyA",
        "outputId": "988e1c3c-c558-4dc5-f648-c7c15fc64428"
      },
      "execution_count": 20,
      "outputs": [
        {
          "output_type": "execute_result",
          "data": {
            "text/html": [
              "<div>\n",
              "<style scoped>\n",
              "    .dataframe tbody tr th:only-of-type {\n",
              "        vertical-align: middle;\n",
              "    }\n",
              "\n",
              "    .dataframe tbody tr th {\n",
              "        vertical-align: top;\n",
              "    }\n",
              "\n",
              "    .dataframe thead th {\n",
              "        text-align: right;\n",
              "    }\n",
              "</style>\n",
              "<table border=\"1\" class=\"dataframe\">\n",
              "  <thead>\n",
              "    <tr style=\"text-align: right;\">\n",
              "      <th></th>\n",
              "      <th>date</th>\n",
              "      <th>open</th>\n",
              "      <th>high</th>\n",
              "      <th>low</th>\n",
              "      <th>close</th>\n",
              "      <th>adjclose</th>\n",
              "      <th>volume</th>\n",
              "    </tr>\n",
              "  </thead>\n",
              "  <tbody>\n",
              "    <tr>\n",
              "      <th>0</th>\n",
              "      <td>2020-06-30</td>\n",
              "      <td>35168.300781</td>\n",
              "      <td>35233.910156</td>\n",
              "      <td>34812.800781</td>\n",
              "      <td>34915.800781</td>\n",
              "      <td>34915.800781</td>\n",
              "      <td>18500</td>\n",
              "    </tr>\n",
              "  </tbody>\n",
              "</table>\n",
              "</div>"
            ],
            "text/plain": [
              "        date          open          high  ...         close      adjclose  volume\n",
              "0 2020-06-30  35168.300781  35233.910156  ...  34915.800781  34915.800781   18500\n",
              "\n",
              "[1 rows x 7 columns]"
            ]
          },
          "metadata": {},
          "execution_count": 20
        }
      ]
    },
    {
      "cell_type": "code",
      "source": [
        "bse_data['date'] = pd.to_datetime(bse_data['date'], format = '%Y%m%d')"
      ],
      "metadata": {
        "id": "ke6o-MJ5cSYb"
      },
      "execution_count": 21,
      "outputs": []
    },
    {
      "cell_type": "code",
      "source": [
        "unseenbse_data['date'] = pd.to_datetime(unseenbse_data['date'], format = '%Y%m%d')"
      ],
      "metadata": {
        "id": "PDl2ZKFRceTC"
      },
      "execution_count": 22,
      "outputs": []
    },
    {
      "cell_type": "code",
      "source": [
        "#before moving forward let us calculate first the actual price\n",
        "unseenbsedata_price = round((unseenbse_data['high'] + unseenbse_data['low'] + unseenbse_data['close'])/ 3, 2)\n",
        "unseenbsedata_price  #actual price"
      ],
      "metadata": {
        "colab": {
          "base_uri": "https://localhost:8080/"
        },
        "id": "VMrhRAGkcl6j",
        "outputId": "b20b88f3-ef2c-44cf-f145-ad254ac67aa2"
      },
      "execution_count": 23,
      "outputs": [
        {
          "output_type": "execute_result",
          "data": {
            "text/plain": [
              "0    34987.5\n",
              "dtype: float64"
            ]
          },
          "metadata": {},
          "execution_count": 23
        }
      ]
    },
    {
      "cell_type": "code",
      "source": [
        ""
      ],
      "metadata": {
        "id": "6ZSypWD5cnnS"
      },
      "execution_count": null,
      "outputs": []
    }
  ]
}